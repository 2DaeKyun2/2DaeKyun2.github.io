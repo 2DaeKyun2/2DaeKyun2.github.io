title: '테스트용 입니다'
  date: 23-01-08 13:03:48 +0800
  categories: ['Github', 'Github Page']
  tags: [github, blog, chirpy, jekyll, windows]     # TAG names should always be lowercase
  ---

{
 "cells": [
  {
   "attachments": {},
   "cell_type": "markdown",
   "metadata": {},
   "source": [
    "# 구구리의 코딩\n",
    "마크다운 작성 테스트 입니다\n",
    "\n",
    "-이건 저의 소개입니당\n",
    "|이름|이대균|\n",
    "|-----|--------|\n",
    "|나이|33|\n",
    "|사는곳|서울 구로구 구로디지털단지쪽에 ~~서식중~~|\n",
    "|전공|정보통신공학|\n",
    "|취미|요리,자전거타기,볼링|\n",
    "|좋아하는음식|매운음식, 면요리\n",
    "|           |오이빼고 왠만해선 잘 먹음|\n",
    "|혈액형|Rh + A(엄청소심한 A형)|\n",
    "|MBTI|ISFJ\n",
    "|     |예전검사땐 INFJ 이였지만 전 직장에서 일하면서 바뀐듯합니다??|\n"
   ]
  },
  {
   "attachments": {},
   "cell_type": "markdown",
   "metadata": {},
   "source": []
  },
  {
   "attachments": {},
   "cell_type": "markdown",
   "metadata": {},
   "source": [
    "# 마크다운 텍스트 출력 확인\n",
    "\n",
    "# 대 제목\n",
    "- (대 제목: # 1개)\n",
    "- 현재 작성줄: 대쉬(-)1개)\n",
    "## 중제목\n",
    "    (중제목: # 2개, 현재 작성줄: 탭1회(간격4))\n",
    "    (텍스트에 효과?를 주는거 같다..)\n",
    "## 중제목2\n",
    "` 숫자키1번 옆 (``)로 텍스트를 묶는다면??`\n",
    "\n",
    "위의 중제목과 같은 효과가 나오네요?\n",
    "\n",
    "(```)3개로 묶으면 줄간격 준 텍스트도 적용이 되네요~\n",
    "\n",
    "```안녕하세요 반갑습니다\n",
    "\n",
    "저는 이대균 입니다\n",
    "\n",
    "나이는 한국나이로는 33살(만31)입니다\n",
    "마음만은 20ㄷ..ㅐ...ㅜㅜ\n",
    "```\n",
    "### 소제목\n",
    "        (소제목: # 3개)\n",
    "        현재 작성줄: 탭2회(간격8))\n",
    "            아 참 이 줄은 간격3입니다^^\n",
    "            들여쓰기가 되는거 같군요~\n",
    "#### 제목1\n",
    "(제목1: # 4개)\n",
    "(현재 작성줄: 탭 3회)\n",
    "\n",
    "이번엔 텍스트에 강조(진하게, 기울기 등)를 줘보겠습니다\n",
    "\n",
    "*기울어졌나요* 이건 (*)별 1개로 묶은 것 입니다\n",
    "\n",
    "**안녕하세요** 이건 (**)별 2개로 묶은 것 입니다\n",
    "\n",
    "***반갑습니다*** 이건 (***) 별 3개로 묶은 것 입니다\n",
    "진하고 기울기까지 적용이 되었네요\n",
    "\n",
    "\n",
    "##### 제목2\n",
    "<span style=\"color:Red\">(제목2: # 5개)</span>\n",
    "\n",
    "텍스트에 색상을 주려면 span tag를 이용하면 색상을 줄수잇네요!!\n",
    "<span style=\"color:Orange\">이건 주황색이네요</span>\n",
    "\n",
    "<span style=\"color:Yellow\">이건 노란색이네요</span>\n",
    "\n",
    "<span style=\"color:Green\">이건 초록색이네요</span>\n",
    "\n",
    "<span style=\"color:Blue\">이건 파란색이네요</span>\n",
    "\n",
    "<span style=\"color:Purple\">이건 보라색이네요</span>\n",
    "\n",
    "###### 제목3\n",
    "(# 6개)\n",
    "\n",
    "해쉬(#) 는 6개 사용이 가능합니다.\n",
    "\n",
    "테스트용이으로 이정도까지만 정리를 해보았어요^^\n",
    "추후에 마크다운언어?를 다시 작성해보겠습니다^^\n",
    "\n",
    "~~언제 작성할지는 안비밀~~\n"
   ]
  },
  {
   "attachments": {},
   "cell_type": "markdown",
   "metadata": {},
   "source": [
    "아 그리고 추가로..\n",
    "\n",
    "조금 더 상세하게 마크다운 사용법을 안내하고 있는 \n",
    "\n",
    "\"Markdown Guide(https://www.markdownguide.org/)\" 를 보시는 것을 추천합니다."
   ]
  }
 ],
 "metadata": {
  "kernelspec": {
   "display_name": "base",
   "language": "python",
   "name": "python3"
  },
  "language_info": {
   "name": "python",
   "version": "3.9.13 (main, Aug 25 2022, 23:51:50) [MSC v.1916 64 bit (AMD64)]"
  },
  "orig_nbformat": 4,
  "vscode": {
   "interpreter": {
    "hash": "f6bf21ab2bc4f0855ec6559fd71a1a94c505a8ef9b18cf62b2d1fb5722b5bafa"
   }
  }
 },
 "nbformat": 4,
 "nbformat_minor": 2
}
